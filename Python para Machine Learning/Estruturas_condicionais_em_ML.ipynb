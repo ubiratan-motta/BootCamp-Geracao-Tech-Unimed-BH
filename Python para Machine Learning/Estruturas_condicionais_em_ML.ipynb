{
 "cells": [
  {
   "cell_type": "markdown",
   "id": "536a59a4-90e4-45a3-a3b8-a2a1b3f66201",
   "metadata": {},
   "source": [
    "# Estrutura condicional Simples"
   ]
  },
  {
   "cell_type": "code",
   "execution_count": 3,
   "id": "b95585ff-62a7-4d85-8edf-66c1281ab587",
   "metadata": {},
   "outputs": [
    {
     "name": "stdout",
     "output_type": "stream",
     "text": [
      "Maior que zero\n"
     ]
    }
   ],
   "source": [
    "soma = 5\n",
    "\n",
    "if soma > 0:\n",
    "    print(\"Maior que zero\")\n",
    "else:\n",
    "    print(\"Menor que zero\")"
   ]
  },
  {
   "cell_type": "code",
   "execution_count": 4,
   "id": "a6062494-c843-4f3f-994f-505a68bb650a",
   "metadata": {},
   "outputs": [
    {
     "name": "stdout",
     "output_type": "stream",
     "text": [
      "Menor que zero\n"
     ]
    }
   ],
   "source": [
    "soma = -2\n",
    "\n",
    "if soma > 0:\n",
    "    print(\"Maior que zero\")\n",
    "else:\n",
    "    print(\"Menor que zero\")"
   ]
  },
  {
   "cell_type": "code",
   "execution_count": 5,
   "id": "097e4f60-a66c-4cb7-b478-fe638a7de3d6",
   "metadata": {},
   "outputs": [
    {
     "name": "stdout",
     "output_type": "stream",
     "text": [
      "valores são diferentes\n"
     ]
    }
   ],
   "source": [
    "numero1 = 2\n",
    "numero2 = 3\n",
    "\n",
    "if numero1 == numero2:\n",
    "    print(\"valores são iguais\")\n",
    "else: \n",
    "    print(\"valores são diferentes\")"
   ]
  },
  {
   "cell_type": "code",
   "execution_count": 7,
   "id": "5df3ccba-77c2-41d3-b4d5-7572be9b652d",
   "metadata": {},
   "outputs": [
    {
     "name": "stdout",
     "output_type": "stream",
     "text": [
      "valores são iguais\n"
     ]
    }
   ],
   "source": [
    "numero1 = 2\n",
    "numero2 = 2\n",
    "\n",
    "if numero1 != numero2:\n",
    "    print(\"valores são diferentes\")\n",
    "else: \n",
    "    print(\"valores são iguais\")"
   ]
  },
  {
   "cell_type": "markdown",
   "id": "7ad5a544-888f-49cb-943b-218b32f720b2",
   "metadata": {},
   "source": [
    "# Estrutura condicional aninhada"
   ]
  },
  {
   "cell_type": "code",
   "execution_count": 9,
   "id": "81404754-6ed1-40e5-83cc-7496e1c3fc65",
   "metadata": {},
   "outputs": [
    {
     "name": "stdout",
     "output_type": "stream",
     "text": [
      "Soma maior que zero\n"
     ]
    }
   ],
   "source": [
    "soma = 1\n",
    "\n",
    "if soma >0:\n",
    "    print(\"Soma maior que zero\")\n",
    "elif soma == 0:\n",
    "    print(\"SOma é igual a zero\")\n",
    "else:\n",
    "    print(\"Soma é menor que zero\")"
   ]
  },
  {
   "cell_type": "code",
   "execution_count": 11,
   "id": "9b83740b-e918-4349-849a-339e1e568a0b",
   "metadata": {},
   "outputs": [
    {
     "name": "stdout",
     "output_type": "stream",
     "text": [
      "Soma é igual a zero\n"
     ]
    }
   ],
   "source": [
    "soma = 0\n",
    "\n",
    "if soma >0:\n",
    "    print(\"Soma maior que zero\")\n",
    "elif soma == 0:\n",
    "    print(\"Soma é igual a zero\")\n",
    "else:\n",
    "    print(\"Soma é menor que zero\")"
   ]
  },
  {
   "cell_type": "code",
   "execution_count": 12,
   "id": "f661c52d-0bab-4881-9c88-af5ef440b6a1",
   "metadata": {},
   "outputs": [
    {
     "name": "stdout",
     "output_type": "stream",
     "text": [
      "Soma é menor que zero\n"
     ]
    }
   ],
   "source": [
    "soma = -5\n",
    "\n",
    "if soma >0:\n",
    "    print(\"Soma maior que zero\")\n",
    "elif soma == 0:\n",
    "    print(\"SOma é igual a zero\")\n",
    "else:\n",
    "    print(\"Soma é menor que zero\")"
   ]
  },
  {
   "cell_type": "code",
   "execution_count": null,
   "id": "f21cbce2-8de9-46f9-b634-85aa72341a2f",
   "metadata": {},
   "outputs": [],
   "source": []
  }
 ],
 "metadata": {
  "kernelspec": {
   "display_name": "Python 3 (ipykernel)",
   "language": "python",
   "name": "python3"
  },
  "language_info": {
   "codemirror_mode": {
    "name": "ipython",
    "version": 3
   },
   "file_extension": ".py",
   "mimetype": "text/x-python",
   "name": "python",
   "nbconvert_exporter": "python",
   "pygments_lexer": "ipython3",
   "version": "3.9.12"
  }
 },
 "nbformat": 4,
 "nbformat_minor": 5
}
