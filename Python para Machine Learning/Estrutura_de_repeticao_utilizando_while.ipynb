{
 "cells": [
  {
   "cell_type": "markdown",
   "id": "9e908319-4de9-4f5a-9284-0bf9180fbd15",
   "metadata": {},
   "source": [
    "# Loops utilizando While"
   ]
  },
  {
   "cell_type": "code",
   "execution_count": 1,
   "id": "d347660e-d439-49b7-8f0c-3df196ad1f7b",
   "metadata": {},
   "outputs": [
    {
     "name": "stdout",
     "output_type": "stream",
     "text": [
      "valor do contador é 0\n",
      "valor do contador é 1\n",
      "valor do contador é 2\n",
      "valor do contador é 3\n",
      "valor do contador é 4\n",
      "valor do contador é 5\n",
      "valor do contador é 6\n",
      "valor do contador é 7\n",
      "valor do contador é 8\n",
      "valor do contador é 9\n"
     ]
    }
   ],
   "source": [
    "contador = 0\n",
    "\n",
    "while contador < 10:\n",
    "    print(f'valor do contador é {contador}')\n",
    "    contador +=1"
   ]
  },
  {
   "cell_type": "code",
   "execution_count": null,
   "id": "5fb7da2c-3f2f-4624-8838-e38e028943d3",
   "metadata": {},
   "outputs": [],
   "source": []
  }
 ],
 "metadata": {
  "kernelspec": {
   "display_name": "Python 3 (ipykernel)",
   "language": "python",
   "name": "python3"
  },
  "language_info": {
   "codemirror_mode": {
    "name": "ipython",
    "version": 3
   },
   "file_extension": ".py",
   "mimetype": "text/x-python",
   "name": "python",
   "nbconvert_exporter": "python",
   "pygments_lexer": "ipython3",
   "version": "3.9.12"
  }
 },
 "nbformat": 4,
 "nbformat_minor": 5
}
